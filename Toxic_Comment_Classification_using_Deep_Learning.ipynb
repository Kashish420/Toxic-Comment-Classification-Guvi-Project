{
  "nbformat": 4,
  "nbformat_minor": 0,
  "metadata": {
    "colab": {
      "provenance": []
    },
    "kernelspec": {
      "name": "python3",
      "display_name": "Python 3"
    },
    "language_info": {
      "name": "python"
    }
  },
  "cells": [
    {
      "cell_type": "code",
      "execution_count": 7,
      "metadata": {
        "colab": {
          "base_uri": "https://localhost:8080/"
        },
        "id": "cG0mtYTBP-Pw",
        "outputId": "efd9c6cb-f65c-47f9-a96c-2fa824bec9de"
      },
      "outputs": [
        {
          "output_type": "stream",
          "name": "stdout",
          "text": [
            "Mounted at /content/drive\n"
          ]
        }
      ],
      "source": [
        "# Mount Drive & Load Dataset\n",
        "from google.colab import drive\n",
        "drive.mount('/content/drive')\n"
      ]
    },
    {
      "cell_type": "code",
      "source": [
        "import pandas as pd\n",
        "df = pd.read_csv('/content/drive/MyDrive/train.csv')"
      ],
      "metadata": {
        "id": "O7hZAW99QJKq"
      },
      "execution_count": 8,
      "outputs": []
    },
    {
      "cell_type": "code",
      "source": [
        "# Step 2: Preprocessing\n",
        "from sklearn.model_selection import train_test_split\n",
        "from tensorflow.keras.preprocessing.text import Tokenizer\n",
        "from tensorflow.keras.preprocessing.sequence import pad_sequences\n"
      ],
      "metadata": {
        "id": "RhtEfJVmQWe8"
      },
      "execution_count": 4,
      "outputs": []
    },
    {
      "cell_type": "code",
      "source": [
        "# Tokenization\n",
        "X_train_text = df['comment_text'].values\n",
        "tokenizer = Tokenizer()\n",
        "tokenizer.fit_on_texts(X_train_text)\n",
        "X = tokenizer.texts_to_sequences(X_train_text)\n",
        "X = pad_sequences(X, maxlen=200)  # pad to same length"
      ],
      "metadata": {
        "id": "5CaKZ2XCQ2hr"
      },
      "execution_count": 5,
      "outputs": []
    },
    {
      "cell_type": "code",
      "source": [
        "# Labels\n",
        "y = df[['toxic', 'severe_toxic', 'obscene', 'threat', 'insult', 'identity_hate']].values"
      ],
      "metadata": {
        "id": "mzacwzU4Q_rR"
      },
      "execution_count": 6,
      "outputs": []
    },
    {
      "cell_type": "code",
      "source": [
        "# Train-test split\n",
        "X_train, X_val, y_train, y_val = train_test_split(X, y, test_size=0.2, random_state=42)\n"
      ],
      "metadata": {
        "id": "VLxcAZ4lRAqh"
      },
      "execution_count": 7,
      "outputs": []
    },
    {
      "cell_type": "code",
      "source": [
        "# Step 3: Build Model\n",
        "from tensorflow.keras.models import Sequential\n",
        "from tensorflow.keras.layers import Embedding, LSTM, Dense, Dropout\n",
        "\n",
        "vocab_size = len(tokenizer.word_index) + 1\n",
        "\n",
        "model = Sequential()\n",
        "model.add(Embedding(input_dim=vocab_size, output_dim=128))\n",
        "model.add(LSTM(64, return_sequences=False))\n",
        "model.add(Dropout(0.5))\n",
        "model.add(Dense(64, activation='relu'))\n",
        "model.add(Dense(6, activation='sigmoid'))  # Multi-label\n"
      ],
      "metadata": {
        "id": "r6alr3_QREKe"
      },
      "execution_count": 12,
      "outputs": []
    },
    {
      "cell_type": "code",
      "source": [
        "# Step 4: Define Focal Loss\n",
        "import tensorflow as tf\n",
        "from keras import backend as K\n",
        "\n",
        "def focal_loss(gamma=2.0, alpha=0.25):\n",
        "    def focal_loss_fixed(y_true, y_pred):\n",
        "        epsilon = K.epsilon()\n",
        "        y_pred = tf.clip_by_value(y_pred, epsilon, 1.0 - epsilon)\n",
        "        cross_entropy = -y_true * tf.math.log(y_pred)\n",
        "        weight = alpha * tf.math.pow(1 - y_pred, gamma)\n",
        "        loss = weight * cross_entropy\n",
        "        return tf.reduce_mean(tf.reduce_sum(loss, axis=1))\n",
        "    return focal_loss_fixed\n"
      ],
      "metadata": {
        "id": "tQ09nYVpRH16"
      },
      "execution_count": 13,
      "outputs": []
    },
    {
      "cell_type": "code",
      "source": [
        "from tensorflow.keras.preprocessing.text import Tokenizer\n",
        "from tensorflow.keras.preprocessing.sequence import pad_sequences\n",
        "\n",
        "# Initialize and fit tokenizer\n",
        "tokenizer = Tokenizer()\n",
        "tokenizer.fit_on_texts(df['comment_text'].values)\n",
        "\n",
        "# Convert text to padded sequences\n",
        "X = tokenizer.texts_to_sequences(df['comment_text'].values)\n",
        "X = pad_sequences(X, maxlen=200)  # Adjust maxlen if needed\n",
        "\n",
        "# Define labels\n",
        "y = df[['toxic', 'severe_toxic', 'obscene', 'threat', 'insult', 'identity_hate']].values\n",
        "\n",
        "# Train-test split\n",
        "from sklearn.model_selection import train_test_split\n",
        "X_train, X_val, y_train, y_val = train_test_split(X, y, test_size=0.2, random_state=42)\n"
      ],
      "metadata": {
        "id": "R6x1gtYwRT--"
      },
      "execution_count": 14,
      "outputs": []
    },
    {
      "cell_type": "code",
      "source": [
        "# Compiling the model\n",
        "model.compile(\n",
        "    loss=focal_loss(gamma=2.0, alpha=0.25),\n",
        "    optimizer='adam',\n",
        "    metrics=['accuracy']\n",
        ")\n",
        "\n",
        "# Fit the model and save the history\n",
        "history = model.fit(\n",
        "    X_train,\n",
        "    y_train,\n",
        "    validation_data=(X_val, y_val),\n",
        "    epochs=3,\n",
        "    batch_size=64,\n",
        "    verbose=1\n",
        ")\n"
      ],
      "metadata": {
        "colab": {
          "base_uri": "https://localhost:8080/"
        },
        "id": "AOHUK7rIRXa3",
        "outputId": "075e974f-7375-4b86-c965-416a10a309b6"
      },
      "execution_count": 15,
      "outputs": [
        {
          "output_type": "stream",
          "name": "stdout",
          "text": [
            "Epoch 1/3\n",
            "\u001b[1m1995/1995\u001b[0m \u001b[32m━━━━━━━━━━━━━━━━━━━━\u001b[0m\u001b[37m\u001b[0m \u001b[1m1204s\u001b[0m 601ms/step - accuracy: 0.6908 - loss: 4.0183e-04 - val_accuracy: 0.9941 - val_loss: 5.5122e-10\n",
            "Epoch 2/3\n",
            "\u001b[1m1995/1995\u001b[0m \u001b[32m━━━━━━━━━━━━━━━━━━━━\u001b[0m\u001b[37m\u001b[0m \u001b[1m1243s\u001b[0m 612ms/step - accuracy: 0.6983 - loss: 2.1259e-08 - val_accuracy: 0.9941 - val_loss: 3.5630e-11\n",
            "Epoch 3/3\n",
            "\u001b[1m1995/1995\u001b[0m \u001b[32m━━━━━━━━━━━━━━━━━━━━\u001b[0m\u001b[37m\u001b[0m \u001b[1m1246s\u001b[0m 624ms/step - accuracy: 0.7265 - loss: 4.7648e-09 - val_accuracy: 0.9941 - val_loss: 6.4150e-12\n"
          ]
        }
      ]
    },
    {
      "cell_type": "code",
      "source": [
        "from sklearn.metrics import classification_report\n",
        "\n",
        "# Predict on validation data\n",
        "y_pred = model.predict(X_val)\n",
        "\n",
        "# Convert probabilities to binary (0/1)\n",
        "y_pred_binary = (y_pred > 0.5).astype(int)\n",
        "\n",
        "# Define label columns\n",
        "label_cols = ['toxic', 'severe_toxic', 'obscene', 'threat', 'insult', 'identity_hate']\n",
        "\n",
        "# Print classification report\n",
        "print(classification_report(y_val, y_pred_binary, target_names=label_cols))"
      ],
      "metadata": {
        "colab": {
          "base_uri": "https://localhost:8080/"
        },
        "id": "G0_2AkgOCbsO",
        "outputId": "339dc6cc-bc1d-4f63-85f8-27eabe8aed8a"
      },
      "execution_count": 23,
      "outputs": [
        {
          "output_type": "stream",
          "name": "stdout",
          "text": [
            "\u001b[1m998/998\u001b[0m \u001b[32m━━━━━━━━━━━━━━━━━━━━\u001b[0m\u001b[37m\u001b[0m \u001b[1m36s\u001b[0m 36ms/step\n",
            "               precision    recall  f1-score   support\n",
            "\n",
            "        toxic       0.10      1.00      0.17      3056\n",
            " severe_toxic       0.01      1.00      0.02       321\n",
            "      obscene       0.05      1.00      0.10      1715\n",
            "       threat       0.00      1.00      0.00        74\n",
            "       insult       0.05      1.00      0.10      1614\n",
            "identity_hate       0.01      1.00      0.02       294\n",
            "\n",
            "    micro avg       0.04      1.00      0.07      7074\n",
            "    macro avg       0.04      1.00      0.07      7074\n",
            " weighted avg       0.07      1.00      0.12      7074\n",
            "  samples avg       0.04      0.10      0.05      7074\n",
            "\n"
          ]
        },
        {
          "output_type": "stream",
          "name": "stderr",
          "text": [
            "/usr/local/lib/python3.11/dist-packages/sklearn/metrics/_classification.py:1565: UndefinedMetricWarning: Recall is ill-defined and being set to 0.0 in samples with no true labels. Use `zero_division` parameter to control this behavior.\n",
            "  _warn_prf(average, modifier, f\"{metric.capitalize()} is\", len(result))\n"
          ]
        }
      ]
    },
    {
      "cell_type": "code",
      "source": [
        "from tensorflow.keras.models import Sequential\n",
        "from tensorflow.keras.layers import Embedding, LSTM, Dense, Dropout\n",
        "\n",
        "vocab_size = len(tokenizer.word_index) + 1\n",
        "\n",
        "model = Sequential()\n",
        "model.add(Embedding(input_dim=vocab_size, output_dim=128))  # you can remove input_length\n",
        "model.add(LSTM(64, return_sequences=False))\n",
        "model.add(Dropout(0.5))\n",
        "model.add(Dense(64, activation='relu'))\n",
        "model.add(Dense(6, activation='sigmoid'))  # For multi-label output\n"
      ],
      "metadata": {
        "id": "6Bce9nI3XxtB"
      },
      "execution_count": 16,
      "outputs": []
    },
    {
      "cell_type": "code",
      "source": [
        "# Custom focal loss definition\n",
        "from keras import backend as K\n",
        "import tensorflow as tf\n",
        "\n",
        "def focal_loss(gamma=2.0, alpha=0.25):\n",
        "    def focal_loss_fixed(y_true, y_pred):\n",
        "        epsilon = K.epsilon()\n",
        "        y_pred = tf.clip_by_value(y_pred, epsilon, 1.0 - epsilon)\n",
        "        cross_entropy = -y_true * tf.math.log(y_pred)\n",
        "        weight = alpha * tf.math.pow(1 - y_pred, gamma)\n",
        "        loss = weight * cross_entropy\n",
        "        return tf.reduce_mean(tf.reduce_sum(loss, axis=1))\n",
        "    return focal_loss_fixed\n",
        "\n",
        "# Compile\n",
        "model.compile(\n",
        "    loss=focal_loss(gamma=2.0, alpha=0.25),\n",
        "    optimizer='adam',\n",
        "    metrics=['accuracy']\n",
        ")\n",
        "\n",
        "# Fit\n",
        "history = model.fit(\n",
        "    X_train,\n",
        "    y_train,\n",
        "    validation_data=(X_val, y_val),\n",
        "    epochs=3,\n",
        "    batch_size=64,\n",
        "    verbose=1\n",
        ")\n"
      ],
      "metadata": {
        "colab": {
          "base_uri": "https://localhost:8080/"
        },
        "id": "4NuQ-FARu9Ks",
        "outputId": "6d1843e6-ffb3-4467-9a9a-5f78991d9000"
      },
      "execution_count": 17,
      "outputs": [
        {
          "output_type": "stream",
          "name": "stdout",
          "text": [
            "Epoch 1/3\n",
            "\u001b[1m1995/1995\u001b[0m \u001b[32m━━━━━━━━━━━━━━━━━━━━\u001b[0m\u001b[37m\u001b[0m \u001b[1m1245s\u001b[0m 620ms/step - accuracy: 0.4167 - loss: 4.1341e-04 - val_accuracy: 0.0039 - val_loss: 1.1840e-09\n",
            "Epoch 2/3\n",
            "\u001b[1m1995/1995\u001b[0m \u001b[32m━━━━━━━━━━━━━━━━━━━━\u001b[0m\u001b[37m\u001b[0m \u001b[1m1283s\u001b[0m 621ms/step - accuracy: 0.4411 - loss: 2.3893e-08 - val_accuracy: 0.9941 - val_loss: 7.4911e-11\n",
            "Epoch 3/3\n",
            "\u001b[1m1995/1995\u001b[0m \u001b[32m━━━━━━━━━━━━━━━━━━━━\u001b[0m\u001b[37m\u001b[0m \u001b[1m1318s\u001b[0m 639ms/step - accuracy: 0.4052 - loss: 5.5851e-09 - val_accuracy: 0.9941 - val_loss: 1.1060e-11\n"
          ]
        }
      ]
    },
    {
      "cell_type": "code",
      "source": [
        "#Plot Training Accuracy and Loss\n",
        "import matplotlib.pyplot as plt\n",
        "\n",
        "# Plot Accuracy\n",
        "plt.figure(figsize=(12, 5))\n",
        "\n",
        "plt.subplot(1, 2, 1)\n",
        "plt.plot(history.history['accuracy'], label='Train Accuracy')\n",
        "plt.plot(history.history['val_accuracy'], label='Val Accuracy')\n",
        "plt.title('Model Accuracy')\n",
        "plt.xlabel('Epoch')\n",
        "plt.ylabel('Accuracy')\n",
        "plt.legend()\n",
        "\n",
        "# Plot Loss\n",
        "plt.subplot(1, 2, 2)\n",
        "plt.plot(history.history['loss'], label='Train Loss')\n",
        "plt.plot(history.history['val_loss'], label='Val Loss')\n",
        "plt.title('Model Loss')\n",
        "plt.xlabel('Epoch')\n",
        "plt.ylabel('Loss')\n",
        "plt.legend()\n",
        "\n",
        "plt.tight_layout()\n",
        "plt.show()\n"
      ],
      "metadata": {
        "colab": {
          "base_uri": "https://localhost:8080/",
          "height": 507
        },
        "id": "VStOTedIvAmO",
        "outputId": "05088c52-7ecc-4e9e-e28d-987653d4c2f1"
      },
      "execution_count": 18,
      "outputs": [
        {
          "output_type": "display_data",
          "data": {
            "text/plain": [
              "<Figure size 1200x500 with 2 Axes>"
            ],
            "image/png": "[encoded data removed]"
          },
          "metadata": {}
        }
      ]
    },
    {
      "cell_type": "code",
      "source": [
        "# Save the model in HDF5 format\n",
        "model.save(\"toxic_comment_model.h5\")"
      ],
      "metadata": {
        "colab": {
          "base_uri": "https://localhost:8080/"
        },
        "id": "yZ9vHUyr_ykU",
        "outputId": "0d8e4e21-9f2b-4266-bae3-9d285c90858e"
      },
      "execution_count": 20,
      "outputs": [
        {
          "output_type": "stream",
          "name": "stderr",
          "text": [
            "WARNING:absl:You are saving your model as an HDF5 file via `model.save()` or `keras.saving.save_model(model)`. This file format is considered legacy. We recommend using instead the native Keras format, e.g. `model.save('my_model.keras')` or `keras.saving.save_model(model, 'my_model.keras')`. \n"
          ]
        }
      ]
    },
    {
      "cell_type": "code",
      "source": [
        "# Example new comments\n",
        "new_comments = [\n",
        "    \"You are a horrible person.\",\n",
        "    \"I hope you have a great day!\",\n",
        "    \"That was a dumb thing to say.\"\n",
        "]\n",
        "\n",
        "# Tokenize and pad\n",
        "new_seq = tokenizer.texts_to_sequences(new_comments)\n",
        "new_padded = pad_sequences(new_seq, maxlen=200)\n",
        "\n",
        "# Predict\n",
        "new_preds = model.predict(new_padded)\n",
        "new_labels = (new_preds > 0.5).astype(int)\n",
        "\n",
        "# Output results\n",
        "label_cols = ['toxic', 'severe_toxic', 'obscene', 'threat', 'insult', 'identity_hate']\n",
        "for comment, preds in zip(new_comments, new_labels):\n",
        "    print(f\"\\nComment: {comment}\")\n",
        "    for label, value in zip(label_cols, preds):\n",
        "        print(f\"{label}: {'Yes' if value == 1 else 'No'}\")"
      ],
      "metadata": {
        "colab": {
          "base_uri": "https://localhost:8080/"
        },
        "id": "Pbqj8MxUAWOa",
        "outputId": "5f48dbb2-cea4-4364-940d-215bed66cb6d"
      },
      "execution_count": 21,
      "outputs": [
        {
          "output_type": "stream",
          "name": "stdout",
          "text": [
            "\u001b[1m1/1\u001b[0m \u001b[32m━━━━━━━━━━━━━━━━━━━━\u001b[0m\u001b[37m\u001b[0m \u001b[1m0s\u001b[0m 50ms/step\n",
            "\n",
            "Comment: You are a horrible person.\n",
            "toxic: Yes\n",
            "severe_toxic: Yes\n",
            "obscene: Yes\n",
            "threat: Yes\n",
            "insult: Yes\n",
            "identity_hate: Yes\n",
            "\n",
            "Comment: I hope you have a great day!\n",
            "toxic: Yes\n",
            "severe_toxic: Yes\n",
            "obscene: Yes\n",
            "threat: Yes\n",
            "insult: Yes\n",
            "identity_hate: Yes\n",
            "\n",
            "Comment: That was a dumb thing to say.\n",
            "toxic: Yes\n",
            "severe_toxic: Yes\n",
            "obscene: Yes\n",
            "threat: Yes\n",
            "insult: Yes\n",
            "identity_hate: Yes\n"
          ]
        }
      ]
    },
    {
      "cell_type": "code",
      "source": [],
      "metadata": {
        "id": "Azfk-XZNBqUk"
      },
      "execution_count": null,
      "outputs": []
    }
  ]
}